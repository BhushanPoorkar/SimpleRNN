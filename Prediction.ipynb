{
 "cells": [
  {
   "cell_type": "code",
   "execution_count": 1,
   "id": "0b8b73c3",
   "metadata": {},
   "outputs": [],
   "source": [
    "# Step 1: Import Libraries and Load the Model\n",
    "import numpy as np\n",
    "import tensorflow as tf\n",
    "from tensorflow.keras.datasets import imdb\n",
    "from tensorflow.keras.preprocessing import sequence\n",
    "from tensorflow.keras.models import load_model"
   ]
  },
  {
   "cell_type": "code",
   "execution_count": 2,
   "id": "6677cb64",
   "metadata": {},
   "outputs": [],
   "source": [
    "# Load the IMDB dataset word index\n",
    "word_index = imdb.get_word_index()\n",
    "reverse_word_index = {value: key for key, value in word_index.items()}"
   ]
  },
  {
   "cell_type": "code",
   "execution_count": 3,
   "id": "cb48a390",
   "metadata": {},
   "outputs": [
    {
     "name": "stderr",
     "output_type": "stream",
     "text": [
      "WARNING:absl:Compiled the loaded model, but the compiled metrics have yet to be built. `model.compile_metrics` will be empty until you train or evaluate the model.\n"
     ]
    },
    {
     "data": {
      "text/html": [
       "<pre style=\"white-space:pre;overflow-x:auto;line-height:normal;font-family:Menlo,'DejaVu Sans Mono',consolas,'Courier New',monospace\"><span style=\"font-weight: bold\">Model: \"sequential_2\"</span>\n",
       "</pre>\n"
      ],
      "text/plain": [
       "\u001b[1mModel: \"sequential_2\"\u001b[0m\n"
      ]
     },
     "metadata": {},
     "output_type": "display_data"
    },
    {
     "data": {
      "text/html": [
       "<pre style=\"white-space:pre;overflow-x:auto;line-height:normal;font-family:Menlo,'DejaVu Sans Mono',consolas,'Courier New',monospace\">┏━━━━━━━━━━━━━━━━━━━━━━━━━━━━━━━━━┳━━━━━━━━━━━━━━━━━━━━━━━━┳━━━━━━━━━━━━━━━┓\n",
       "┃<span style=\"font-weight: bold\"> Layer (type)                    </span>┃<span style=\"font-weight: bold\"> Output Shape           </span>┃<span style=\"font-weight: bold\">       Param # </span>┃\n",
       "┡━━━━━━━━━━━━━━━━━━━━━━━━━━━━━━━━━╇━━━━━━━━━━━━━━━━━━━━━━━━╇━━━━━━━━━━━━━━━┩\n",
       "│ embedding_1 (<span style=\"color: #0087ff; text-decoration-color: #0087ff\">Embedding</span>)         │ (<span style=\"color: #00af00; text-decoration-color: #00af00\">32</span>, <span style=\"color: #00af00; text-decoration-color: #00af00\">500</span>, <span style=\"color: #00af00; text-decoration-color: #00af00\">128</span>)         │     <span style=\"color: #00af00; text-decoration-color: #00af00\">1,280,000</span> │\n",
       "├─────────────────────────────────┼────────────────────────┼───────────────┤\n",
       "│ simple_rnn_1 (<span style=\"color: #0087ff; text-decoration-color: #0087ff\">SimpleRNN</span>)        │ (<span style=\"color: #00af00; text-decoration-color: #00af00\">32</span>, <span style=\"color: #00af00; text-decoration-color: #00af00\">128</span>)              │        <span style=\"color: #00af00; text-decoration-color: #00af00\">32,896</span> │\n",
       "├─────────────────────────────────┼────────────────────────┼───────────────┤\n",
       "│ dense_1 (<span style=\"color: #0087ff; text-decoration-color: #0087ff\">Dense</span>)                 │ (<span style=\"color: #00af00; text-decoration-color: #00af00\">32</span>, <span style=\"color: #00af00; text-decoration-color: #00af00\">1</span>)                │           <span style=\"color: #00af00; text-decoration-color: #00af00\">129</span> │\n",
       "└─────────────────────────────────┴────────────────────────┴───────────────┘\n",
       "</pre>\n"
      ],
      "text/plain": [
       "┏━━━━━━━━━━━━━━━━━━━━━━━━━━━━━━━━━┳━━━━━━━━━━━━━━━━━━━━━━━━┳━━━━━━━━━━━━━━━┓\n",
       "┃\u001b[1m \u001b[0m\u001b[1mLayer (type)                   \u001b[0m\u001b[1m \u001b[0m┃\u001b[1m \u001b[0m\u001b[1mOutput Shape          \u001b[0m\u001b[1m \u001b[0m┃\u001b[1m \u001b[0m\u001b[1m      Param #\u001b[0m\u001b[1m \u001b[0m┃\n",
       "┡━━━━━━━━━━━━━━━━━━━━━━━━━━━━━━━━━╇━━━━━━━━━━━━━━━━━━━━━━━━╇━━━━━━━━━━━━━━━┩\n",
       "│ embedding_1 (\u001b[38;5;33mEmbedding\u001b[0m)         │ (\u001b[38;5;34m32\u001b[0m, \u001b[38;5;34m500\u001b[0m, \u001b[38;5;34m128\u001b[0m)         │     \u001b[38;5;34m1,280,000\u001b[0m │\n",
       "├─────────────────────────────────┼────────────────────────┼───────────────┤\n",
       "│ simple_rnn_1 (\u001b[38;5;33mSimpleRNN\u001b[0m)        │ (\u001b[38;5;34m32\u001b[0m, \u001b[38;5;34m128\u001b[0m)              │        \u001b[38;5;34m32,896\u001b[0m │\n",
       "├─────────────────────────────────┼────────────────────────┼───────────────┤\n",
       "│ dense_1 (\u001b[38;5;33mDense\u001b[0m)                 │ (\u001b[38;5;34m32\u001b[0m, \u001b[38;5;34m1\u001b[0m)                │           \u001b[38;5;34m129\u001b[0m │\n",
       "└─────────────────────────────────┴────────────────────────┴───────────────┘\n"
      ]
     },
     "metadata": {},
     "output_type": "display_data"
    },
    {
     "data": {
      "text/html": [
       "<pre style=\"white-space:pre;overflow-x:auto;line-height:normal;font-family:Menlo,'DejaVu Sans Mono',consolas,'Courier New',monospace\"><span style=\"font-weight: bold\"> Total params: </span><span style=\"color: #00af00; text-decoration-color: #00af00\">1,313,027</span> (5.01 MB)\n",
       "</pre>\n"
      ],
      "text/plain": [
       "\u001b[1m Total params: \u001b[0m\u001b[38;5;34m1,313,027\u001b[0m (5.01 MB)\n"
      ]
     },
     "metadata": {},
     "output_type": "display_data"
    },
    {
     "data": {
      "text/html": [
       "<pre style=\"white-space:pre;overflow-x:auto;line-height:normal;font-family:Menlo,'DejaVu Sans Mono',consolas,'Courier New',monospace\"><span style=\"font-weight: bold\"> Trainable params: </span><span style=\"color: #00af00; text-decoration-color: #00af00\">1,313,025</span> (5.01 MB)\n",
       "</pre>\n"
      ],
      "text/plain": [
       "\u001b[1m Trainable params: \u001b[0m\u001b[38;5;34m1,313,025\u001b[0m (5.01 MB)\n"
      ]
     },
     "metadata": {},
     "output_type": "display_data"
    },
    {
     "data": {
      "text/html": [
       "<pre style=\"white-space:pre;overflow-x:auto;line-height:normal;font-family:Menlo,'DejaVu Sans Mono',consolas,'Courier New',monospace\"><span style=\"font-weight: bold\"> Non-trainable params: </span><span style=\"color: #00af00; text-decoration-color: #00af00\">0</span> (0.00 B)\n",
       "</pre>\n"
      ],
      "text/plain": [
       "\u001b[1m Non-trainable params: \u001b[0m\u001b[38;5;34m0\u001b[0m (0.00 B)\n"
      ]
     },
     "metadata": {},
     "output_type": "display_data"
    },
    {
     "data": {
      "text/html": [
       "<pre style=\"white-space:pre;overflow-x:auto;line-height:normal;font-family:Menlo,'DejaVu Sans Mono',consolas,'Courier New',monospace\"><span style=\"font-weight: bold\"> Optimizer params: </span><span style=\"color: #00af00; text-decoration-color: #00af00\">2</span> (12.00 B)\n",
       "</pre>\n"
      ],
      "text/plain": [
       "\u001b[1m Optimizer params: \u001b[0m\u001b[38;5;34m2\u001b[0m (12.00 B)\n"
      ]
     },
     "metadata": {},
     "output_type": "display_data"
    }
   ],
   "source": [
    "# Load the pre-trained model with ReLU activation\n",
    "model = load_model('simple_rnn_imdb.h5')\n",
    "model.summary()"
   ]
  },
  {
   "cell_type": "code",
   "execution_count": 4,
   "id": "cf39f02e",
   "metadata": {},
   "outputs": [
    {
     "data": {
      "text/plain": [
       "[array([[ 6.63023889e-01, -5.80211580e-01, -6.84116662e-01, ...,\n",
       "         -5.64249992e-01, -6.76331639e-01,  6.54227018e-01],\n",
       "        [-5.65083371e-03, -5.41286133e-02, -3.95416468e-03, ...,\n",
       "         -1.61296055e-02, -1.22560278e-01,  1.10116094e-01],\n",
       "        [ 1.82500660e-01, -7.42562488e-02, -5.37222289e-02, ...,\n",
       "         -1.04568511e-01, -1.23008810e-01,  2.13115841e-01],\n",
       "        ...,\n",
       "        [ 5.05921021e-02, -2.18547275e-03, -6.76455093e-04, ...,\n",
       "          5.28989709e-04, -1.39862495e-02,  1.19343931e-02],\n",
       "        [-5.21886349e-02, -6.59634918e-02,  4.29601967e-02, ...,\n",
       "         -7.70691084e-03,  2.79985350e-02,  5.38268462e-02],\n",
       "        [ 9.74160898e-03,  4.53319065e-02, -1.97569579e-02, ...,\n",
       "          5.54773435e-02,  8.89975354e-02, -3.57049033e-02]], dtype=float32),\n",
       " array([[-0.15112366,  0.11907419, -0.14186421, ...,  0.0090742 ,\n",
       "         -0.08234236, -0.06074235],\n",
       "        [ 0.15689537, -0.06956615, -0.05949275, ..., -0.12590107,\n",
       "          0.1039105 , -0.02858933],\n",
       "        [ 0.13758753, -0.07087853,  0.09815811, ...,  0.11413386,\n",
       "         -0.0446776 , -0.06711888],\n",
       "        ...,\n",
       "        [-0.04032877,  0.07361107,  0.19573261, ...,  0.12670803,\n",
       "         -0.06331947,  0.00530467],\n",
       "        [-0.04185915,  0.03800683, -0.01008657, ...,  0.11142059,\n",
       "          0.17873046, -0.11494207],\n",
       "        [-0.14566794, -0.0819187 , -0.0707256 , ...,  0.10276751,\n",
       "         -0.13174473, -0.093125  ]], dtype=float32),\n",
       " array([[-0.16917895,  0.09901477, -0.06099265, ..., -0.0345123 ,\n",
       "         -0.17452511,  0.02401697],\n",
       "        [ 0.1637929 ,  0.09751738, -0.07136908, ..., -0.1141534 ,\n",
       "          0.14206208, -0.0765098 ],\n",
       "        [-0.02273415, -0.00805312,  0.00983727, ...,  0.06938054,\n",
       "         -0.09379507, -0.08827651],\n",
       "        ...,\n",
       "        [ 0.09714346, -0.10291341,  0.02261951, ...,  0.2152705 ,\n",
       "          0.24328086,  0.01823522],\n",
       "        [-0.12894534, -0.02071148, -0.10125769, ...,  0.25141558,\n",
       "         -0.166804  , -0.11425558],\n",
       "        [ 0.01738114, -0.04657302,  0.08413383, ...,  0.17190623,\n",
       "          0.00821695,  0.05932203]], dtype=float32),\n",
       " array([-0.02422932,  0.03498647, -0.01726448, -0.00961556, -0.02000517,\n",
       "        -0.02301457,  0.00951021, -0.04994782, -0.04459183, -0.03673807,\n",
       "        -0.00426114,  0.01313349,  0.03899486, -0.02412599, -0.00955229,\n",
       "        -0.01220364, -0.02111655,  0.00547474, -0.04996414, -0.02446956,\n",
       "        -0.01420912, -0.02865399, -0.01517279,  0.02922305,  0.01089251,\n",
       "        -0.02555606, -0.01875297,  0.03149591, -0.00873779, -0.01996128,\n",
       "        -0.01830122, -0.00834189, -0.02345601,  0.0341424 , -0.03944528,\n",
       "        -0.04062049,  0.00130016,  0.04285105, -0.02133206,  0.03720577,\n",
       "        -0.00648576, -0.01011124, -0.04853058, -0.00420803, -0.03121742,\n",
       "        -0.03253923, -0.06596942, -0.02624518, -0.03766561, -0.01033845,\n",
       "        -0.01148798,  0.00082826, -0.00256203, -0.02300381, -0.01863035,\n",
       "         0.0225648 , -0.0060191 , -0.03741871,  0.02850479,  0.0174232 ,\n",
       "         0.02265358,  0.02382054, -0.02357904, -0.03376307, -0.01257837,\n",
       "        -0.01520732,  0.01662658, -0.03541843, -0.01865328, -0.04300869,\n",
       "        -0.02066339,  0.02582278,  0.03401764,  0.00141904,  0.02289724,\n",
       "        -0.01758963, -0.03093853,  0.00537444, -0.02371041, -0.04764262,\n",
       "        -0.01967341, -0.01206727, -0.0139225 , -0.02808822, -0.02070077,\n",
       "        -0.01578002, -0.00024355, -0.02977656, -0.03694275, -0.02283354,\n",
       "         0.04788316, -0.00772906, -0.02231395, -0.00027405, -0.03867098,\n",
       "         0.00619777, -0.02823175,  0.05928086, -0.0621689 ,  0.00209288,\n",
       "         0.03013977, -0.03559124, -0.03245346,  0.01664978, -0.01640417,\n",
       "        -0.01379004, -0.02322878,  0.0130415 ,  0.02726514, -0.03355402,\n",
       "        -0.04139701, -0.0323757 ,  0.01604865, -0.00801868, -0.03273455,\n",
       "         0.04734412, -0.00932126,  0.04184098,  0.0004594 ,  0.02260618,\n",
       "        -0.00751996, -0.01328762,  0.02335285, -0.01989573, -0.02943502,\n",
       "         0.00270879, -0.00954911, -0.03184119], dtype=float32),\n",
       " array([[-0.00428664],\n",
       "        [-0.18638313],\n",
       "        [-0.12466047],\n",
       "        [-0.0124165 ],\n",
       "        [-0.11190707],\n",
       "        [ 0.1342023 ],\n",
       "        [-0.12604141],\n",
       "        [-0.09224382],\n",
       "        [ 0.8290534 ],\n",
       "        [ 0.05351841],\n",
       "        [-0.16903885],\n",
       "        [-0.1423493 ],\n",
       "        [-0.15805653],\n",
       "        [-0.21002017],\n",
       "        [ 0.125542  ],\n",
       "        [ 0.2174938 ],\n",
       "        [ 0.09673574],\n",
       "        [ 0.21198581],\n",
       "        [-0.05605976],\n",
       "        [-0.02918808],\n",
       "        [ 0.04262843],\n",
       "        [ 0.06975602],\n",
       "        [ 0.1874315 ],\n",
       "        [ 0.08100138],\n",
       "        [ 0.16725208],\n",
       "        [-0.14215624],\n",
       "        [ 0.01586388],\n",
       "        [ 0.17200936],\n",
       "        [ 0.19544409],\n",
       "        [ 0.2225211 ],\n",
       "        [ 0.12913004],\n",
       "        [-0.05052289],\n",
       "        [ 0.01803732],\n",
       "        [-0.1907358 ],\n",
       "        [ 0.2538851 ],\n",
       "        [-0.2136162 ],\n",
       "        [ 0.04215331],\n",
       "        [-0.00801595],\n",
       "        [ 0.04700586],\n",
       "        [-0.26337862],\n",
       "        [ 0.13432446],\n",
       "        [-0.08717197],\n",
       "        [-0.12792465],\n",
       "        [ 0.14528865],\n",
       "        [-0.04049842],\n",
       "        [ 0.20313556],\n",
       "        [-0.1291549 ],\n",
       "        [ 0.00530281],\n",
       "        [-0.00139051],\n",
       "        [-0.09214525],\n",
       "        [ 0.08157159],\n",
       "        [-0.16600308],\n",
       "        [ 0.07782656],\n",
       "        [ 0.10085746],\n",
       "        [ 0.1457114 ],\n",
       "        [-0.02739307],\n",
       "        [ 0.13692655],\n",
       "        [ 0.07613418],\n",
       "        [-0.15338871],\n",
       "        [-0.04691999],\n",
       "        [ 0.10255934],\n",
       "        [ 0.01188238],\n",
       "        [ 0.051399  ],\n",
       "        [ 0.03302369],\n",
       "        [-0.5024923 ],\n",
       "        [ 0.29055694],\n",
       "        [-0.2373682 ],\n",
       "        [-0.23227319],\n",
       "        [ 0.43812802],\n",
       "        [-0.2735147 ],\n",
       "        [-0.21942122],\n",
       "        [-0.09971308],\n",
       "        [-0.10245247],\n",
       "        [-0.02734842],\n",
       "        [-0.01989505],\n",
       "        [ 0.20130883],\n",
       "        [-0.20742105],\n",
       "        [ 0.16252837],\n",
       "        [-0.00303612],\n",
       "        [ 0.10103519],\n",
       "        [ 0.17090918],\n",
       "        [-0.2561849 ],\n",
       "        [ 0.03925689],\n",
       "        [-0.13729604],\n",
       "        [-0.07476544],\n",
       "        [ 0.03964426],\n",
       "        [ 0.04141007],\n",
       "        [ 0.17201726],\n",
       "        [ 0.09693527],\n",
       "        [ 0.07635067],\n",
       "        [ 0.2547178 ],\n",
       "        [-0.63169116],\n",
       "        [-0.08010739],\n",
       "        [-0.01711649],\n",
       "        [ 0.12971954],\n",
       "        [-0.05779234],\n",
       "        [-0.01610668],\n",
       "        [ 0.21433948],\n",
       "        [-0.11673536],\n",
       "        [-0.05151329],\n",
       "        [ 0.09087878],\n",
       "        [-0.02271362],\n",
       "        [ 0.08732205],\n",
       "        [-0.1568781 ],\n",
       "        [-0.02542578],\n",
       "        [-0.18245278],\n",
       "        [ 0.18005559],\n",
       "        [-0.00892095],\n",
       "        [-0.11953208],\n",
       "        [-0.0768481 ],\n",
       "        [ 0.26557913],\n",
       "        [ 0.17057425],\n",
       "        [-0.15466797],\n",
       "        [ 0.13459988],\n",
       "        [ 0.17881067],\n",
       "        [ 0.13524033],\n",
       "        [ 0.08877749],\n",
       "        [ 0.03760866],\n",
       "        [-0.01430588],\n",
       "        [ 0.00603588],\n",
       "        [ 0.17936446],\n",
       "        [ 0.03869012],\n",
       "        [ 0.05545358],\n",
       "        [ 0.09842822],\n",
       "        [-0.0198968 ],\n",
       "        [-0.02175315],\n",
       "        [ 0.43485612],\n",
       "        [-0.14176182]], dtype=float32),\n",
       " array([0.5883709], dtype=float32)]"
      ]
     },
     "execution_count": 4,
     "metadata": {},
     "output_type": "execute_result"
    }
   ],
   "source": [
    "model.get_weights()"
   ]
  },
  {
   "cell_type": "code",
   "execution_count": 5,
   "id": "4410cf77",
   "metadata": {},
   "outputs": [],
   "source": [
    "# Step 2: Helper Functions\n",
    "# Function to decode reviews\n",
    "def decode_review(encoded_review):\n",
    "    return ' '.join([reverse_word_index.get(i - 3, '?') for i in encoded_review])\n",
    "\n",
    "# Function to preprocess user input\n",
    "def preprocess_text(text):\n",
    "    words = text.lower().split()\n",
    "    encoded_review = [word_index.get(word, 2) + 3 for word in words]\n",
    "    padded_review = sequence.pad_sequences([encoded_review], maxlen=500)\n",
    "    return padded_review"
   ]
  },
  {
   "cell_type": "code",
   "execution_count": 6,
   "id": "27005f6d",
   "metadata": {},
   "outputs": [],
   "source": [
    "### Prediction  function\n",
    "\n",
    "def predict_sentiment(review):\n",
    "    preprocessed_input=preprocess_text(review)\n",
    "\n",
    "    prediction=model.predict(preprocessed_input)\n",
    "\n",
    "    sentiment = 'Positive' if prediction[0][0] > 0.5 else 'Negative'\n",
    "    \n",
    "    return sentiment, prediction[0][0]"
   ]
  },
  {
   "cell_type": "code",
   "execution_count": 7,
   "id": "16e4ed15",
   "metadata": {},
   "outputs": [
    {
     "name": "stdout",
     "output_type": "stream",
     "text": [
      "\u001b[1m1/1\u001b[0m \u001b[32m━━━━━━━━━━━━━━━━━━━━\u001b[0m\u001b[37m\u001b[0m \u001b[1m0s\u001b[0m 129ms/step\n",
      "Review: This movie was fantastic! The acting was great and the plot was thrilling.\n",
      "Sentiment: Positive\n",
      "Prediction Score: 0.6794721484184265\n"
     ]
    }
   ],
   "source": [
    "# Step 4: User Input and Prediction\n",
    "# Example review for prediction\n",
    "example_review = \"This movie was fantastic! The acting was great and the plot was thrilling.\"\n",
    "\n",
    "sentiment,score=predict_sentiment(example_review)\n",
    "\n",
    "print(f'Review: {example_review}')\n",
    "print(f'Sentiment: {sentiment}')\n",
    "print(f'Prediction Score: {score}')"
   ]
  },
  {
   "cell_type": "code",
   "execution_count": null,
   "id": "ae925016",
   "metadata": {},
   "outputs": [],
   "source": []
  }
 ],
 "metadata": {
  "kernelspec": {
   "display_name": "Python 3",
   "language": "python",
   "name": "python3"
  },
  "language_info": {
   "codemirror_mode": {
    "name": "ipython",
    "version": 3
   },
   "file_extension": ".py",
   "mimetype": "text/x-python",
   "name": "python",
   "nbconvert_exporter": "python",
   "pygments_lexer": "ipython3",
   "version": "3.12.0"
  }
 },
 "nbformat": 4,
 "nbformat_minor": 5
}
